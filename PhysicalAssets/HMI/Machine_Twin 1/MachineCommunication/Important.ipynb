{
 "cells": [
  {
   "cell_type": "code",
   "execution_count": 4,
   "id": "d3276b84",
   "metadata": {},
   "outputs": [],
   "source": [
    "import json\n",
    "import pandas as pd"
   ]
  },
  {
   "cell_type": "code",
   "execution_count": 5,
   "id": "7d25634e",
   "metadata": {},
   "outputs": [
    {
     "name": "stdout",
     "output_type": "stream",
     "text": [
      "<class 'dict'>\n"
     ]
    }
   ],
   "source": [
    "with open(\"agent_metadata.json\", \"r\") as read_file:\n",
    "    poland_data = json.load(read_file)\n",
    "\n",
    "print(type(poland_data))"
   ]
  },
  {
   "cell_type": "code",
   "execution_count": 4,
   "id": "58889e1a",
   "metadata": {},
   "outputs": [
    {
     "name": "stdout",
     "output_type": "stream",
     "text": [
      "dict_keys(['twin_id', 'floor_id', 'emergency_on', 'spindle_on', 'coolant_on', 'cycle_on', 'axis_pos_x', 'axis_pos_y', 'axis_pos_z', 'feed_x', 'feed_y', 'feed_z', 'spindle_speed', 'job_file_name', 'maxtravel_X', 'maxtravel_Y', 'maxtravel_Z', 'wcsoffset_X', 'wcsoffset_Y', 'wcsoffset_Z', 'tool_aas', 'spindle_aas', 'coolant_aas', 'programfile_link', 'otherdetails_link'])\n"
     ]
    }
   ],
   "source": [
    "print(poland_data.keys())"
   ]
  },
  {
   "cell_type": "code",
   "execution_count": 7,
   "id": "c93893f0",
   "metadata": {},
   "outputs": [
    {
     "name": "stdout",
     "output_type": "stream",
     "text": [
      "(1, 25)\n"
     ]
    },
    {
     "data": {
      "text/html": [
       "<div>\n",
       "<style scoped>\n",
       "    .dataframe tbody tr th:only-of-type {\n",
       "        vertical-align: middle;\n",
       "    }\n",
       "\n",
       "    .dataframe tbody tr th {\n",
       "        vertical-align: top;\n",
       "    }\n",
       "\n",
       "    .dataframe thead th {\n",
       "        text-align: right;\n",
       "    }\n",
       "</style>\n",
       "<table border=\"1\" class=\"dataframe\">\n",
       "  <thead>\n",
       "    <tr style=\"text-align: right;\">\n",
       "      <th></th>\n",
       "      <th>twin_id</th>\n",
       "      <th>floor_id</th>\n",
       "      <th>emergency_on</th>\n",
       "      <th>spindle_on</th>\n",
       "      <th>coolant_on</th>\n",
       "      <th>cycle_on</th>\n",
       "      <th>axis_pos_x</th>\n",
       "      <th>axis_pos_y</th>\n",
       "      <th>axis_pos_z</th>\n",
       "      <th>feed_x</th>\n",
       "      <th>...</th>\n",
       "      <th>maxtravel_Y</th>\n",
       "      <th>maxtravel_Z</th>\n",
       "      <th>wcsoffset_X</th>\n",
       "      <th>wcsoffset_Y</th>\n",
       "      <th>wcsoffset_Z</th>\n",
       "      <th>tool_aas</th>\n",
       "      <th>spindle_aas</th>\n",
       "      <th>coolant_aas</th>\n",
       "      <th>programfile_link</th>\n",
       "      <th>otherdetails_link</th>\n",
       "    </tr>\n",
       "  </thead>\n",
       "  <tbody>\n",
       "    <tr>\n",
       "      <th>0</th>\n",
       "      <td>1001</td>\n",
       "      <td>10</td>\n",
       "      <td>0</td>\n",
       "      <td>0</td>\n",
       "      <td>1</td>\n",
       "      <td>0</td>\n",
       "      <td>0.0</td>\n",
       "      <td>0.0</td>\n",
       "      <td>0.0</td>\n",
       "      <td>200.0</td>\n",
       "      <td>...</td>\n",
       "      <td>20</td>\n",
       "      <td>20</td>\n",
       "      <td>100</td>\n",
       "      <td>80</td>\n",
       "      <td>10</td>\n",
       "      <td>https://raw.githubusercontent.com/muditkumarsa...</td>\n",
       "      <td>https://raw.githubusercontent.com/muditkumarsa...</td>\n",
       "      <td>https://raw.githubusercontent.com/muditkumarsa...</td>\n",
       "      <td>https://www.google.com/</td>\n",
       "      <td>https://www.google.com/</td>\n",
       "    </tr>\n",
       "  </tbody>\n",
       "</table>\n",
       "<p>1 rows × 25 columns</p>\n",
       "</div>"
      ],
      "text/plain": [
       "   twin_id  floor_id  emergency_on  spindle_on  coolant_on  cycle_on  \\\n",
       "0     1001        10             0           0           1         0   \n",
       "\n",
       "   axis_pos_x  axis_pos_y  axis_pos_z  feed_x  ...  maxtravel_Y  maxtravel_Z  \\\n",
       "0         0.0         0.0         0.0   200.0  ...           20           20   \n",
       "\n",
       "   wcsoffset_X wcsoffset_Y  wcsoffset_Z  \\\n",
       "0          100          80           10   \n",
       "\n",
       "                                            tool_aas  \\\n",
       "0  https://raw.githubusercontent.com/muditkumarsa...   \n",
       "\n",
       "                                         spindle_aas  \\\n",
       "0  https://raw.githubusercontent.com/muditkumarsa...   \n",
       "\n",
       "                                         coolant_aas         programfile_link  \\\n",
       "0  https://raw.githubusercontent.com/muditkumarsa...  https://www.google.com/   \n",
       "\n",
       "         otherdetails_link  \n",
       "0  https://www.google.com/  \n",
       "\n",
       "[1 rows x 25 columns]"
      ]
     },
     "execution_count": 7,
     "metadata": {},
     "output_type": "execute_result"
    }
   ],
   "source": [
    "df = pd.DataFrame(poland_data, index=[0])\n",
    "print(df.shape)\n",
    "df.head()"
   ]
  },
  {
   "cell_type": "code",
   "execution_count": 8,
   "id": "5386ea3e",
   "metadata": {},
   "outputs": [],
   "source": [
    "df.to_csv('my_data.csv', index=False)"
   ]
  },
  {
   "cell_type": "code",
   "execution_count": 18,
   "id": "35e67fe8",
   "metadata": {},
   "outputs": [],
   "source": [
    "d={\n",
    "    \"a\":1,\n",
    "    \"b\":2\n",
    "}"
   ]
  },
  {
   "cell_type": "code",
   "execution_count": 19,
   "id": "b5e87f3d",
   "metadata": {},
   "outputs": [],
   "source": [
    "import pandas as pd"
   ]
  },
  {
   "cell_type": "code",
   "execution_count": 21,
   "id": "8635c519",
   "metadata": {},
   "outputs": [
    {
     "ename": "TypeError",
     "evalue": "__init__() got an unexpected keyword argument 'ignore_index'",
     "output_type": "error",
     "traceback": [
      "\u001b[1;31m---------------------------------------------------------------------------\u001b[0m",
      "\u001b[1;31mTypeError\u001b[0m                                 Traceback (most recent call last)",
      "\u001b[1;32m~\\AppData\\Local\\Temp/ipykernel_17208/371258389.py\u001b[0m in \u001b[0;36m<module>\u001b[1;34m\u001b[0m\n\u001b[1;32m----> 1\u001b[1;33m \u001b[0mdf1\u001b[0m\u001b[1;33m=\u001b[0m\u001b[0mpd\u001b[0m\u001b[1;33m.\u001b[0m\u001b[0mDataFrame\u001b[0m\u001b[1;33m(\u001b[0m\u001b[0md\u001b[0m\u001b[1;33m,\u001b[0m \u001b[0mignore_index\u001b[0m\u001b[1;33m=\u001b[0m\u001b[1;32mTrue\u001b[0m\u001b[1;33m)\u001b[0m\u001b[1;33m\u001b[0m\u001b[1;33m\u001b[0m\u001b[0m\n\u001b[0m\u001b[0;32m      2\u001b[0m \u001b[0mdf1\u001b[0m\u001b[1;33m\u001b[0m\u001b[1;33m\u001b[0m\u001b[0m\n",
      "\u001b[1;31mTypeError\u001b[0m: __init__() got an unexpected keyword argument 'ignore_index'"
     ]
    }
   ],
   "source": [
    "df1=pd.DataFrame(d, ignore_index=True)\n",
    "df1"
   ]
  },
  {
   "cell_type": "code",
   "execution_count": 16,
   "id": "7de43e25",
   "metadata": {},
   "outputs": [],
   "source": [
    "d1={\n",
    "    \"a\":5,\n",
    "    \"b\":6\n",
    "}"
   ]
  },
  {
   "cell_type": "code",
   "execution_count": 17,
   "id": "2d25c024",
   "metadata": {},
   "outputs": [
    {
     "data": {
      "text/html": [
       "<div>\n",
       "<style scoped>\n",
       "    .dataframe tbody tr th:only-of-type {\n",
       "        vertical-align: middle;\n",
       "    }\n",
       "\n",
       "    .dataframe tbody tr th {\n",
       "        vertical-align: top;\n",
       "    }\n",
       "\n",
       "    .dataframe thead th {\n",
       "        text-align: right;\n",
       "    }\n",
       "</style>\n",
       "<table border=\"1\" class=\"dataframe\">\n",
       "  <thead>\n",
       "    <tr style=\"text-align: right;\">\n",
       "      <th></th>\n",
       "      <th>a</th>\n",
       "      <th>b</th>\n",
       "    </tr>\n",
       "  </thead>\n",
       "  <tbody>\n",
       "    <tr>\n",
       "      <th>0</th>\n",
       "      <td>1</td>\n",
       "      <td>2</td>\n",
       "    </tr>\n",
       "    <tr>\n",
       "      <th>1</th>\n",
       "      <td>[5]</td>\n",
       "      <td>[6]</td>\n",
       "    </tr>\n",
       "    <tr>\n",
       "      <th>2</th>\n",
       "      <td>5</td>\n",
       "      <td>6</td>\n",
       "    </tr>\n",
       "  </tbody>\n",
       "</table>\n",
       "</div>"
      ],
      "text/plain": [
       "     a    b\n",
       "0    1    2\n",
       "1  [5]  [6]\n",
       "2    5    6"
      ]
     },
     "execution_count": 17,
     "metadata": {},
     "output_type": "execute_result"
    }
   ],
   "source": [
    "df1=df1.append(d1,ignore_index=True)\n",
    "df1"
   ]
  },
  {
   "cell_type": "code",
   "execution_count": null,
   "id": "f11e4348",
   "metadata": {},
   "outputs": [],
   "source": []
  }
 ],
 "metadata": {
  "kernelspec": {
   "display_name": "Python 3 (ipykernel)",
   "language": "python",
   "name": "python3"
  },
  "language_info": {
   "codemirror_mode": {
    "name": "ipython",
    "version": 3
   },
   "file_extension": ".py",
   "mimetype": "text/x-python",
   "name": "python",
   "nbconvert_exporter": "python",
   "pygments_lexer": "ipython3",
   "version": "3.9.7"
  }
 },
 "nbformat": 4,
 "nbformat_minor": 5
}
